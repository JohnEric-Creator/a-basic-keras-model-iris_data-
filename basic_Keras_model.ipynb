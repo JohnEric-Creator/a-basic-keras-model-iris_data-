{
 "cells": [
  {
   "cell_type": "markdown",
   "metadata": {},
   "source": [
    "###### Keras"
   ]
  },
  {
   "cell_type": "code",
   "execution_count": 18,
   "metadata": {},
   "outputs": [],
   "source": [
    "import numpy as np"
   ]
  },
  {
   "cell_type": "code",
   "execution_count": 19,
   "metadata": {},
   "outputs": [],
   "source": [
    "from sklearn.datasets import load_iris\n",
    "iris = load_iris()"
   ]
  },
  {
   "cell_type": "code",
   "execution_count": 20,
   "metadata": {},
   "outputs": [
    {
     "name": "stdout",
     "output_type": "stream",
     "text": [
      ".. _iris_dataset:\n",
      "\n",
      "Iris plants dataset\n",
      "--------------------\n",
      "\n",
      "**Data Set Characteristics:**\n",
      "\n",
      "    :Number of Instances: 150 (50 in each of three classes)\n",
      "    :Number of Attributes: 4 numeric, predictive attributes and the class\n",
      "    :Attribute Information:\n",
      "        - sepal length in cm\n",
      "        - sepal width in cm\n",
      "        - petal length in cm\n",
      "        - petal width in cm\n",
      "        - class:\n",
      "                - Iris-Setosa\n",
      "                - Iris-Versicolour\n",
      "                - Iris-Virginica\n",
      "                \n",
      "    :Summary Statistics:\n",
      "\n",
      "    ============== ==== ==== ======= ===== ====================\n",
      "                    Min  Max   Mean    SD   Class Correlation\n",
      "    ============== ==== ==== ======= ===== ====================\n",
      "    sepal length:   4.3  7.9   5.84   0.83    0.7826\n",
      "    sepal width:    2.0  4.4   3.05   0.43   -0.4194\n",
      "    petal length:   1.0  6.9   3.76   1.76    0.9490  (high!)\n",
      "    petal width:    0.1  2.5   1.20   0.76    0.9565  (high!)\n",
      "    ============== ==== ==== ======= ===== ====================\n",
      "\n",
      "    :Missing Attribute Values: None\n",
      "    :Class Distribution: 33.3% for each of 3 classes.\n",
      "    :Creator: R.A. Fisher\n",
      "    :Donor: Michael Marshall (MARSHALL%PLU@io.arc.nasa.gov)\n",
      "    :Date: July, 1988\n",
      "\n",
      "The famous Iris database, first used by Sir R.A. Fisher. The dataset is taken\n",
      "from Fisher's paper. Note that it's the same as in R, but not as in the UCI\n",
      "Machine Learning Repository, which has two wrong data points.\n",
      "\n",
      "This is perhaps the best known database to be found in the\n",
      "pattern recognition literature.  Fisher's paper is a classic in the field and\n",
      "is referenced frequently to this day.  (See Duda & Hart, for example.)  The\n",
      "data set contains 3 classes of 50 instances each, where each class refers to a\n",
      "type of iris plant.  One class is linearly separable from the other 2; the\n",
      "latter are NOT linearly separable from each other.\n",
      "\n",
      ".. topic:: References\n",
      "\n",
      "   - Fisher, R.A. \"The use of multiple measurements in taxonomic problems\"\n",
      "     Annual Eugenics, 7, Part II, 179-188 (1936); also in \"Contributions to\n",
      "     Mathematical Statistics\" (John Wiley, NY, 1950).\n",
      "   - Duda, R.O., & Hart, P.E. (1973) Pattern Classification and Scene Analysis.\n",
      "     (Q327.D83) John Wiley & Sons.  ISBN 0-471-22361-1.  See page 218.\n",
      "   - Dasarathy, B.V. (1980) \"Nosing Around the Neighborhood: A New System\n",
      "     Structure and Classification Rule for Recognition in Partially Exposed\n",
      "     Environments\".  IEEE Transactions on Pattern Analysis and Machine\n",
      "     Intelligence, Vol. PAMI-2, No. 1, 67-71.\n",
      "   - Gates, G.W. (1972) \"The Reduced Nearest Neighbor Rule\".  IEEE Transactions\n",
      "     on Information Theory, May 1972, 431-433.\n",
      "   - See also: 1988 MLC Proceedings, 54-64.  Cheeseman et al\"s AUTOCLASS II\n",
      "     conceptual clustering system finds 3 classes in the data.\n",
      "   - Many, many more ...\n"
     ]
    }
   ],
   "source": [
    "print(iris.DESCR)"
   ]
  },
  {
   "cell_type": "code",
   "execution_count": 21,
   "metadata": {},
   "outputs": [
    {
     "data": {
      "text/plain": [
       "array([[5.1, 3.5, 1.4, 0.2],\n",
       "       [4.9, 3. , 1.4, 0.2],\n",
       "       [4.7, 3.2, 1.3, 0.2],\n",
       "       [4.6, 3.1, 1.5, 0.2],\n",
       "       [5. , 3.6, 1.4, 0.2],\n",
       "       [5.4, 3.9, 1.7, 0.4],\n",
       "       [4.6, 3.4, 1.4, 0.3],\n",
       "       [5. , 3.4, 1.5, 0.2],\n",
       "       [4.4, 2.9, 1.4, 0.2],\n",
       "       [4.9, 3.1, 1.5, 0.1],\n",
       "       [5.4, 3.7, 1.5, 0.2],\n",
       "       [4.8, 3.4, 1.6, 0.2],\n",
       "       [4.8, 3. , 1.4, 0.1],\n",
       "       [4.3, 3. , 1.1, 0.1],\n",
       "       [5.8, 4. , 1.2, 0.2],\n",
       "       [5.7, 4.4, 1.5, 0.4],\n",
       "       [5.4, 3.9, 1.3, 0.4],\n",
       "       [5.1, 3.5, 1.4, 0.3],\n",
       "       [5.7, 3.8, 1.7, 0.3],\n",
       "       [5.1, 3.8, 1.5, 0.3],\n",
       "       [5.4, 3.4, 1.7, 0.2],\n",
       "       [5.1, 3.7, 1.5, 0.4],\n",
       "       [4.6, 3.6, 1. , 0.2],\n",
       "       [5.1, 3.3, 1.7, 0.5],\n",
       "       [4.8, 3.4, 1.9, 0.2],\n",
       "       [5. , 3. , 1.6, 0.2],\n",
       "       [5. , 3.4, 1.6, 0.4],\n",
       "       [5.2, 3.5, 1.5, 0.2],\n",
       "       [5.2, 3.4, 1.4, 0.2],\n",
       "       [4.7, 3.2, 1.6, 0.2],\n",
       "       [4.8, 3.1, 1.6, 0.2],\n",
       "       [5.4, 3.4, 1.5, 0.4],\n",
       "       [5.2, 4.1, 1.5, 0.1],\n",
       "       [5.5, 4.2, 1.4, 0.2],\n",
       "       [4.9, 3.1, 1.5, 0.2],\n",
       "       [5. , 3.2, 1.2, 0.2],\n",
       "       [5.5, 3.5, 1.3, 0.2],\n",
       "       [4.9, 3.6, 1.4, 0.1],\n",
       "       [4.4, 3. , 1.3, 0.2],\n",
       "       [5.1, 3.4, 1.5, 0.2],\n",
       "       [5. , 3.5, 1.3, 0.3],\n",
       "       [4.5, 2.3, 1.3, 0.3],\n",
       "       [4.4, 3.2, 1.3, 0.2],\n",
       "       [5. , 3.5, 1.6, 0.6],\n",
       "       [5.1, 3.8, 1.9, 0.4],\n",
       "       [4.8, 3. , 1.4, 0.3],\n",
       "       [5.1, 3.8, 1.6, 0.2],\n",
       "       [4.6, 3.2, 1.4, 0.2],\n",
       "       [5.3, 3.7, 1.5, 0.2],\n",
       "       [5. , 3.3, 1.4, 0.2],\n",
       "       [7. , 3.2, 4.7, 1.4],\n",
       "       [6.4, 3.2, 4.5, 1.5],\n",
       "       [6.9, 3.1, 4.9, 1.5],\n",
       "       [5.5, 2.3, 4. , 1.3],\n",
       "       [6.5, 2.8, 4.6, 1.5],\n",
       "       [5.7, 2.8, 4.5, 1.3],\n",
       "       [6.3, 3.3, 4.7, 1.6],\n",
       "       [4.9, 2.4, 3.3, 1. ],\n",
       "       [6.6, 2.9, 4.6, 1.3],\n",
       "       [5.2, 2.7, 3.9, 1.4],\n",
       "       [5. , 2. , 3.5, 1. ],\n",
       "       [5.9, 3. , 4.2, 1.5],\n",
       "       [6. , 2.2, 4. , 1. ],\n",
       "       [6.1, 2.9, 4.7, 1.4],\n",
       "       [5.6, 2.9, 3.6, 1.3],\n",
       "       [6.7, 3.1, 4.4, 1.4],\n",
       "       [5.6, 3. , 4.5, 1.5],\n",
       "       [5.8, 2.7, 4.1, 1. ],\n",
       "       [6.2, 2.2, 4.5, 1.5],\n",
       "       [5.6, 2.5, 3.9, 1.1],\n",
       "       [5.9, 3.2, 4.8, 1.8],\n",
       "       [6.1, 2.8, 4. , 1.3],\n",
       "       [6.3, 2.5, 4.9, 1.5],\n",
       "       [6.1, 2.8, 4.7, 1.2],\n",
       "       [6.4, 2.9, 4.3, 1.3],\n",
       "       [6.6, 3. , 4.4, 1.4],\n",
       "       [6.8, 2.8, 4.8, 1.4],\n",
       "       [6.7, 3. , 5. , 1.7],\n",
       "       [6. , 2.9, 4.5, 1.5],\n",
       "       [5.7, 2.6, 3.5, 1. ],\n",
       "       [5.5, 2.4, 3.8, 1.1],\n",
       "       [5.5, 2.4, 3.7, 1. ],\n",
       "       [5.8, 2.7, 3.9, 1.2],\n",
       "       [6. , 2.7, 5.1, 1.6],\n",
       "       [5.4, 3. , 4.5, 1.5],\n",
       "       [6. , 3.4, 4.5, 1.6],\n",
       "       [6.7, 3.1, 4.7, 1.5],\n",
       "       [6.3, 2.3, 4.4, 1.3],\n",
       "       [5.6, 3. , 4.1, 1.3],\n",
       "       [5.5, 2.5, 4. , 1.3],\n",
       "       [5.5, 2.6, 4.4, 1.2],\n",
       "       [6.1, 3. , 4.6, 1.4],\n",
       "       [5.8, 2.6, 4. , 1.2],\n",
       "       [5. , 2.3, 3.3, 1. ],\n",
       "       [5.6, 2.7, 4.2, 1.3],\n",
       "       [5.7, 3. , 4.2, 1.2],\n",
       "       [5.7, 2.9, 4.2, 1.3],\n",
       "       [6.2, 2.9, 4.3, 1.3],\n",
       "       [5.1, 2.5, 3. , 1.1],\n",
       "       [5.7, 2.8, 4.1, 1.3],\n",
       "       [6.3, 3.3, 6. , 2.5],\n",
       "       [5.8, 2.7, 5.1, 1.9],\n",
       "       [7.1, 3. , 5.9, 2.1],\n",
       "       [6.3, 2.9, 5.6, 1.8],\n",
       "       [6.5, 3. , 5.8, 2.2],\n",
       "       [7.6, 3. , 6.6, 2.1],\n",
       "       [4.9, 2.5, 4.5, 1.7],\n",
       "       [7.3, 2.9, 6.3, 1.8],\n",
       "       [6.7, 2.5, 5.8, 1.8],\n",
       "       [7.2, 3.6, 6.1, 2.5],\n",
       "       [6.5, 3.2, 5.1, 2. ],\n",
       "       [6.4, 2.7, 5.3, 1.9],\n",
       "       [6.8, 3. , 5.5, 2.1],\n",
       "       [5.7, 2.5, 5. , 2. ],\n",
       "       [5.8, 2.8, 5.1, 2.4],\n",
       "       [6.4, 3.2, 5.3, 2.3],\n",
       "       [6.5, 3. , 5.5, 1.8],\n",
       "       [7.7, 3.8, 6.7, 2.2],\n",
       "       [7.7, 2.6, 6.9, 2.3],\n",
       "       [6. , 2.2, 5. , 1.5],\n",
       "       [6.9, 3.2, 5.7, 2.3],\n",
       "       [5.6, 2.8, 4.9, 2. ],\n",
       "       [7.7, 2.8, 6.7, 2. ],\n",
       "       [6.3, 2.7, 4.9, 1.8],\n",
       "       [6.7, 3.3, 5.7, 2.1],\n",
       "       [7.2, 3.2, 6. , 1.8],\n",
       "       [6.2, 2.8, 4.8, 1.8],\n",
       "       [6.1, 3. , 4.9, 1.8],\n",
       "       [6.4, 2.8, 5.6, 2.1],\n",
       "       [7.2, 3. , 5.8, 1.6],\n",
       "       [7.4, 2.8, 6.1, 1.9],\n",
       "       [7.9, 3.8, 6.4, 2. ],\n",
       "       [6.4, 2.8, 5.6, 2.2],\n",
       "       [6.3, 2.8, 5.1, 1.5],\n",
       "       [6.1, 2.6, 5.6, 1.4],\n",
       "       [7.7, 3. , 6.1, 2.3],\n",
       "       [6.3, 3.4, 5.6, 2.4],\n",
       "       [6.4, 3.1, 5.5, 1.8],\n",
       "       [6. , 3. , 4.8, 1.8],\n",
       "       [6.9, 3.1, 5.4, 2.1],\n",
       "       [6.7, 3.1, 5.6, 2.4],\n",
       "       [6.9, 3.1, 5.1, 2.3],\n",
       "       [5.8, 2.7, 5.1, 1.9],\n",
       "       [6.8, 3.2, 5.9, 2.3],\n",
       "       [6.7, 3.3, 5.7, 2.5],\n",
       "       [6.7, 3. , 5.2, 2.3],\n",
       "       [6.3, 2.5, 5. , 1.9],\n",
       "       [6.5, 3. , 5.2, 2. ],\n",
       "       [6.2, 3.4, 5.4, 2.3],\n",
       "       [5.9, 3. , 5.1, 1.8]])"
      ]
     },
     "execution_count": 21,
     "metadata": {},
     "output_type": "execute_result"
    }
   ],
   "source": [
    "X = iris.data\n",
    "X"
   ]
  },
  {
   "cell_type": "code",
   "execution_count": 22,
   "metadata": {},
   "outputs": [
    {
     "data": {
      "text/plain": [
       "array([0, 0, 0, 0, 0, 0, 0, 0, 0, 0, 0, 0, 0, 0, 0, 0, 0, 0, 0, 0, 0, 0,\n",
       "       0, 0, 0, 0, 0, 0, 0, 0, 0, 0, 0, 0, 0, 0, 0, 0, 0, 0, 0, 0, 0, 0,\n",
       "       0, 0, 0, 0, 0, 0, 1, 1, 1, 1, 1, 1, 1, 1, 1, 1, 1, 1, 1, 1, 1, 1,\n",
       "       1, 1, 1, 1, 1, 1, 1, 1, 1, 1, 1, 1, 1, 1, 1, 1, 1, 1, 1, 1, 1, 1,\n",
       "       1, 1, 1, 1, 1, 1, 1, 1, 1, 1, 1, 1, 2, 2, 2, 2, 2, 2, 2, 2, 2, 2,\n",
       "       2, 2, 2, 2, 2, 2, 2, 2, 2, 2, 2, 2, 2, 2, 2, 2, 2, 2, 2, 2, 2, 2,\n",
       "       2, 2, 2, 2, 2, 2, 2, 2, 2, 2, 2, 2, 2, 2, 2, 2, 2, 2])"
      ]
     },
     "execution_count": 22,
     "metadata": {},
     "output_type": "execute_result"
    }
   ],
   "source": [
    "y = iris.target\n",
    "y"
   ]
  },
  {
   "cell_type": "markdown",
   "metadata": {},
   "source": [
    "###### One Hot Endocding"
   ]
  },
  {
   "cell_type": "code",
   "execution_count": 25,
   "metadata": {},
   "outputs": [],
   "source": [
    "from tensorflow.keras.utils import to_categorical"
   ]
  },
  {
   "cell_type": "code",
   "execution_count": 27,
   "metadata": {},
   "outputs": [],
   "source": [
    "y = to_categorical(y)"
   ]
  },
  {
   "cell_type": "code",
   "execution_count": 28,
   "metadata": {},
   "outputs": [
    {
     "data": {
      "text/plain": [
       "(150, 3)"
      ]
     },
     "execution_count": 28,
     "metadata": {},
     "output_type": "execute_result"
    }
   ],
   "source": [
    "y.shape"
   ]
  },
  {
   "cell_type": "code",
   "execution_count": 31,
   "metadata": {},
   "outputs": [],
   "source": [
    "from sklearn.model_selection import train_test_split"
   ]
  },
  {
   "cell_type": "code",
   "execution_count": 32,
   "metadata": {},
   "outputs": [],
   "source": [
    "X_train, X_test, y_train, y_test = train_test_split(X,\n",
    "                                                    y,\n",
    "                                                    test_size=0.33,\n",
    "                                                    random_state=42)"
   ]
  },
  {
   "cell_type": "markdown",
   "metadata": {},
   "source": [
    "###### Normalization"
   ]
  },
  {
   "cell_type": "code",
   "execution_count": 34,
   "metadata": {},
   "outputs": [],
   "source": [
    "from sklearn.preprocessing import MinMaxScaler"
   ]
  },
  {
   "cell_type": "code",
   "execution_count": 35,
   "metadata": {},
   "outputs": [],
   "source": [
    "scaler_object = MinMaxScaler()"
   ]
  },
  {
   "cell_type": "code",
   "execution_count": 36,
   "metadata": {},
   "outputs": [
    {
     "data": {
      "text/plain": [
       "MinMaxScaler()"
      ]
     },
     "execution_count": 36,
     "metadata": {},
     "output_type": "execute_result"
    }
   ],
   "source": [
    "scaler_object.fit(X_train)"
   ]
  },
  {
   "cell_type": "code",
   "execution_count": 38,
   "metadata": {},
   "outputs": [],
   "source": [
    "scaled_X_train = scaler_object.transform(X_train)"
   ]
  },
  {
   "cell_type": "code",
   "execution_count": 39,
   "metadata": {},
   "outputs": [],
   "source": [
    "scaled_X_test = scaler_object.transform(X_test)"
   ]
  },
  {
   "cell_type": "code",
   "execution_count": 41,
   "metadata": {},
   "outputs": [
    {
     "data": {
      "text/plain": [
       "array([[0.41176471, 0.40909091, 0.55357143, 0.5       ],\n",
       "       [0.97058824, 0.45454545, 0.98214286, 0.83333333],\n",
       "       [0.38235294, 0.45454545, 0.60714286, 0.58333333],\n",
       "       [0.23529412, 0.68181818, 0.05357143, 0.04166667],\n",
       "       [1.        , 0.36363636, 1.        , 0.79166667],\n",
       "       [0.44117647, 0.31818182, 0.53571429, 0.375     ],\n",
       "       [0.26470588, 0.63636364, 0.05357143, 0.04166667],\n",
       "       [0.20588235, 0.68181818, 0.03571429, 0.08333333],\n",
       "       [0.23529412, 0.81818182, 0.14285714, 0.125     ],\n",
       "       [0.20588235, 0.        , 0.42857143, 0.375     ],\n",
       "       [0.58823529, 0.31818182, 0.67857143, 0.70833333],\n",
       "       [0.14705882, 0.63636364, 0.14285714, 0.04166667],\n",
       "       [0.20588235, 0.45454545, 0.08928571, 0.04166667],\n",
       "       [0.23529412, 0.59090909, 0.10714286, 0.16666667],\n",
       "       [0.38235294, 0.31818182, 0.55357143, 0.5       ],\n",
       "       [0.23529412, 0.63636364, 0.07142857, 0.04166667],\n",
       "       [0.41176471, 0.45454545, 0.55357143, 0.45833333],\n",
       "       [1.        , 0.81818182, 1.        , 0.875     ],\n",
       "       [0.08823529, 0.54545455, 0.05357143, 0.04166667],\n",
       "       [0.55882353, 0.40909091, 0.57142857, 0.5       ],\n",
       "       [0.41176471, 0.22727273, 0.69642857, 0.79166667],\n",
       "       [0.35294118, 1.        , 0.05357143, 0.04166667],\n",
       "       [0.5       , 0.45454545, 0.66071429, 0.70833333],\n",
       "       [0.44117647, 0.31818182, 0.71428571, 0.75      ],\n",
       "       [0.5       , 0.09090909, 0.51785714, 0.375     ],\n",
       "       [0.32352941, 0.45454545, 0.60714286, 0.58333333],\n",
       "       [0.55882353, 0.63636364, 0.76785714, 0.91666667],\n",
       "       [0.35294118, 0.13636364, 0.51785714, 0.5       ],\n",
       "       [0.32352941, 0.86363636, 0.10714286, 0.125     ],\n",
       "       [0.20588235, 0.13636364, 0.39285714, 0.375     ],\n",
       "       [0.61764706, 0.31818182, 0.75      , 0.75      ],\n",
       "       [0.20588235, 0.59090909, 0.05357143, 0.04166667],\n",
       "       [0.20588235, 0.54545455, 0.01785714, 0.04166667],\n",
       "       [0.35294118, 0.18181818, 0.48214286, 0.41666667],\n",
       "       [0.70588235, 0.45454545, 0.69642857, 0.66666667],\n",
       "       [0.17647059, 0.5       , 0.07142857, 0.04166667],\n",
       "       [0.44117647, 0.36363636, 0.71428571, 0.95833333],\n",
       "       [0.20588235, 0.63636364, 0.07142857, 0.04166667],\n",
       "       [0.20588235, 0.68181818, 0.08928571, 0.20833333],\n",
       "       [0.47058824, 0.54545455, 0.66071429, 0.70833333],\n",
       "       [0.23529412, 0.22727273, 0.33928571, 0.41666667],\n",
       "       [0.76470588, 0.54545455, 0.82142857, 0.91666667],\n",
       "       [0.5       , 0.31818182, 0.71428571, 0.625     ],\n",
       "       [0.52941176, 0.27272727, 0.80357143, 0.54166667],\n",
       "       [1.        , 0.45454545, 0.89285714, 0.91666667],\n",
       "       [0.35294118, 0.22727273, 0.51785714, 0.5       ],\n",
       "       [0.02941176, 0.40909091, 0.05357143, 0.04166667],\n",
       "       [0.        , 0.45454545, 0.        , 0.        ],\n",
       "       [0.5       , 0.09090909, 0.69642857, 0.58333333],\n",
       "       [0.85294118, 0.54545455, 0.875     , 0.70833333],\n",
       "       [0.08823529, 0.5       , 0.07142857, 0.04166667],\n",
       "       [0.23529412, 0.68181818, 0.05357143, 0.08333333],\n",
       "       [0.02941176, 0.45454545, 0.03571429, 0.04166667],\n",
       "       [0.58823529, 0.22727273, 0.67857143, 0.58333333],\n",
       "       [0.58823529, 0.63636364, 0.80357143, 0.95833333],\n",
       "       [0.08823529, 0.63636364, 0.05357143, 0.08333333],\n",
       "       [0.73529412, 0.45454545, 0.78571429, 0.83333333],\n",
       "       [0.58823529, 0.59090909, 0.875     , 1.        ],\n",
       "       [0.11764706, 0.54545455, 0.03571429, 0.04166667],\n",
       "       [0.52941176, 0.40909091, 0.64285714, 0.54166667],\n",
       "       [0.64705882, 0.36363636, 0.625     , 0.58333333],\n",
       "       [0.55882353, 0.36363636, 0.66071429, 0.70833333],\n",
       "       [0.79411765, 0.54545455, 0.64285714, 0.54166667],\n",
       "       [0.61764706, 0.54545455, 0.75      , 0.91666667],\n",
       "       [0.23529412, 0.81818182, 0.08928571, 0.04166667],\n",
       "       [0.76470588, 0.5       , 0.76785714, 0.83333333],\n",
       "       [0.47058824, 0.45454545, 0.55357143, 0.58333333],\n",
       "       [0.64705882, 0.45454545, 0.73214286, 0.79166667],\n",
       "       [0.41176471, 0.27272727, 0.42857143, 0.375     ],\n",
       "       [0.26470588, 0.31818182, 0.5       , 0.54166667],\n",
       "       [0.52941176, 0.45454545, 0.625     , 0.54166667],\n",
       "       [0.05882353, 0.13636364, 0.03571429, 0.08333333],\n",
       "       [0.67647059, 0.40909091, 0.625     , 0.5       ],\n",
       "       [0.35294118, 0.27272727, 0.58928571, 0.45833333],\n",
       "       [0.29411765, 0.77272727, 0.07142857, 0.04166667],\n",
       "       [0.38235294, 0.45454545, 0.53571429, 0.5       ],\n",
       "       [0.88235294, 0.40909091, 0.92857143, 0.70833333],\n",
       "       [0.70588235, 0.59090909, 0.82142857, 0.83333333],\n",
       "       [0.23529412, 0.77272727, 0.07142857, 0.125     ],\n",
       "       [0.17647059, 0.18181818, 0.39285714, 0.375     ],\n",
       "       [0.70588235, 0.59090909, 0.82142857, 1.        ],\n",
       "       [0.85294118, 0.45454545, 0.83928571, 0.625     ],\n",
       "       [0.17647059, 0.72727273, 0.05357143, 0.        ],\n",
       "       [0.70588235, 0.5       , 0.80357143, 0.95833333],\n",
       "       [0.17647059, 0.45454545, 0.05357143, 0.04166667],\n",
       "       [0.76470588, 0.5       , 0.67857143, 0.58333333],\n",
       "       [0.91176471, 0.36363636, 0.89285714, 0.75      ],\n",
       "       [0.58823529, 0.40909091, 0.80357143, 0.70833333],\n",
       "       [0.41176471, 0.36363636, 0.53571429, 0.5       ],\n",
       "       [0.64705882, 0.45454545, 0.78571429, 0.70833333],\n",
       "       [0.58823529, 0.13636364, 0.58928571, 0.5       ],\n",
       "       [0.61764706, 0.40909091, 0.57142857, 0.5       ],\n",
       "       [0.38235294, 0.36363636, 0.67857143, 0.79166667],\n",
       "       [0.47058824, 0.45454545, 0.71428571, 0.70833333],\n",
       "       [0.32352941, 0.63636364, 0.10714286, 0.04166667],\n",
       "       [0.52941176, 0.36363636, 0.51785714, 0.5       ],\n",
       "       [0.17647059, 0.22727273, 0.60714286, 0.66666667],\n",
       "       [0.44117647, 0.90909091, 0.01785714, 0.04166667],\n",
       "       [0.44117647, 0.27272727, 0.51785714, 0.45833333],\n",
       "       [0.82352941, 0.45454545, 0.85714286, 0.83333333]])"
      ]
     },
     "execution_count": 41,
     "metadata": {},
     "output_type": "execute_result"
    }
   ],
   "source": [
    "scaled_X_train"
   ]
  },
  {
   "cell_type": "code",
   "execution_count": 42,
   "metadata": {},
   "outputs": [],
   "source": [
    "from keras.models import Sequential\n",
    "from keras.layers import Dense"
   ]
  },
  {
   "cell_type": "code",
   "execution_count": 43,
   "metadata": {},
   "outputs": [],
   "source": [
    "model = Sequential()\n",
    "model.add(Dense(8,input_dim=4,activation='relu'))\n",
    "model.add(Dense(8,input_dim=4,activation='relu'))\n",
    "model.add(Dense(3,activation='softmax'))  # using 3 perceptrons to match the discriptor attributes\n",
    "model.compile(loss='categorical_crossentropy',optimizer='adam',metrics=['accuracy'])"
   ]
  },
  {
   "cell_type": "code",
   "execution_count": 44,
   "metadata": {},
   "outputs": [
    {
     "name": "stdout",
     "output_type": "stream",
     "text": [
      "Model: \"sequential\"\n",
      "_________________________________________________________________\n",
      " Layer (type)                Output Shape              Param #   \n",
      "=================================================================\n",
      " dense (Dense)               (None, 8)                 40        \n",
      "                                                                 \n",
      " dense_1 (Dense)             (None, 8)                 72        \n",
      "                                                                 \n",
      " dense_2 (Dense)             (None, 3)                 27        \n",
      "                                                                 \n",
      "=================================================================\n",
      "Total params: 139\n",
      "Trainable params: 139\n",
      "Non-trainable params: 0\n",
      "_________________________________________________________________\n"
     ]
    }
   ],
   "source": [
    "model.summary()"
   ]
  },
  {
   "cell_type": "code",
   "execution_count": 45,
   "metadata": {},
   "outputs": [
    {
     "name": "stdout",
     "output_type": "stream",
     "text": [
      "Epoch 1/150\n",
      "4/4 - 0s - loss: 1.2059 - accuracy: 0.3800 - 307ms/epoch - 77ms/step\n",
      "Epoch 2/150\n",
      "4/4 - 0s - loss: 1.1918 - accuracy: 0.3900 - 5ms/epoch - 1ms/step\n",
      "Epoch 3/150\n",
      "4/4 - 0s - loss: 1.1798 - accuracy: 0.3800 - 5ms/epoch - 1ms/step\n",
      "Epoch 4/150\n",
      "4/4 - 0s - loss: 1.1678 - accuracy: 0.3800 - 5ms/epoch - 1ms/step\n",
      "Epoch 5/150\n",
      "4/4 - 0s - loss: 1.1561 - accuracy: 0.3900 - 5ms/epoch - 1ms/step\n",
      "Epoch 6/150\n",
      "4/4 - 0s - loss: 1.1462 - accuracy: 0.4100 - 4ms/epoch - 1ms/step\n",
      "Epoch 7/150\n",
      "4/4 - 0s - loss: 1.1358 - accuracy: 0.4200 - 4ms/epoch - 1ms/step\n",
      "Epoch 8/150\n",
      "4/4 - 0s - loss: 1.1271 - accuracy: 0.4200 - 5ms/epoch - 1ms/step\n",
      "Epoch 9/150\n",
      "4/4 - 0s - loss: 1.1184 - accuracy: 0.4300 - 6ms/epoch - 1ms/step\n",
      "Epoch 10/150\n",
      "4/4 - 0s - loss: 1.1107 - accuracy: 0.4300 - 5ms/epoch - 1ms/step\n",
      "Epoch 11/150\n",
      "4/4 - 0s - loss: 1.1022 - accuracy: 0.4200 - 5ms/epoch - 1ms/step\n",
      "Epoch 12/150\n",
      "4/4 - 0s - loss: 1.0951 - accuracy: 0.4200 - 4ms/epoch - 1ms/step\n",
      "Epoch 13/150\n",
      "4/4 - 0s - loss: 1.0879 - accuracy: 0.4200 - 5ms/epoch - 1ms/step\n",
      "Epoch 14/150\n",
      "4/4 - 0s - loss: 1.0814 - accuracy: 0.4200 - 5ms/epoch - 1ms/step\n",
      "Epoch 15/150\n",
      "4/4 - 0s - loss: 1.0748 - accuracy: 0.4100 - 6ms/epoch - 2ms/step\n",
      "Epoch 16/150\n",
      "4/4 - 0s - loss: 1.0685 - accuracy: 0.4100 - 6ms/epoch - 1ms/step\n",
      "Epoch 17/150\n",
      "4/4 - 0s - loss: 1.0620 - accuracy: 0.3800 - 5ms/epoch - 1ms/step\n",
      "Epoch 18/150\n",
      "4/4 - 0s - loss: 1.0565 - accuracy: 0.4200 - 5ms/epoch - 1ms/step\n",
      "Epoch 19/150\n",
      "4/4 - 0s - loss: 1.0508 - accuracy: 0.4500 - 3ms/epoch - 750us/step\n",
      "Epoch 20/150\n",
      "4/4 - 0s - loss: 1.0449 - accuracy: 0.4700 - 3ms/epoch - 750us/step\n",
      "Epoch 21/150\n",
      "4/4 - 0s - loss: 1.0399 - accuracy: 0.4700 - 4ms/epoch - 1000us/step\n",
      "Epoch 22/150\n",
      "4/4 - 0s - loss: 1.0349 - accuracy: 0.4600 - 3ms/epoch - 750us/step\n",
      "Epoch 23/150\n",
      "4/4 - 0s - loss: 1.0304 - accuracy: 0.4800 - 3ms/epoch - 750us/step\n",
      "Epoch 24/150\n",
      "4/4 - 0s - loss: 1.0263 - accuracy: 0.5000 - 5ms/epoch - 1ms/step\n",
      "Epoch 25/150\n",
      "4/4 - 0s - loss: 1.0221 - accuracy: 0.4700 - 3ms/epoch - 750us/step\n",
      "Epoch 26/150\n",
      "4/4 - 0s - loss: 1.0176 - accuracy: 0.4800 - 3ms/epoch - 750us/step\n",
      "Epoch 27/150\n",
      "4/4 - 0s - loss: 1.0132 - accuracy: 0.4700 - 3ms/epoch - 751us/step\n",
      "Epoch 28/150\n",
      "4/4 - 0s - loss: 1.0094 - accuracy: 0.4600 - 4ms/epoch - 1000us/step\n",
      "Epoch 29/150\n",
      "4/4 - 0s - loss: 1.0054 - accuracy: 0.4300 - 3ms/epoch - 750us/step\n",
      "Epoch 30/150\n",
      "4/4 - 0s - loss: 1.0020 - accuracy: 0.4100 - 3ms/epoch - 750us/step\n",
      "Epoch 31/150\n",
      "4/4 - 0s - loss: 0.9987 - accuracy: 0.3800 - 3ms/epoch - 750us/step\n",
      "Epoch 32/150\n",
      "4/4 - 0s - loss: 0.9955 - accuracy: 0.3800 - 3ms/epoch - 750us/step\n",
      "Epoch 33/150\n",
      "4/4 - 0s - loss: 0.9921 - accuracy: 0.4100 - 3ms/epoch - 750us/step\n",
      "Epoch 34/150\n",
      "4/4 - 0s - loss: 0.9888 - accuracy: 0.4100 - 3ms/epoch - 751us/step\n",
      "Epoch 35/150\n",
      "4/4 - 0s - loss: 0.9857 - accuracy: 0.4700 - 3ms/epoch - 750us/step\n",
      "Epoch 36/150\n",
      "4/4 - 0s - loss: 0.9824 - accuracy: 0.4600 - 3ms/epoch - 750us/step\n",
      "Epoch 37/150\n",
      "4/4 - 0s - loss: 0.9792 - accuracy: 0.4700 - 3ms/epoch - 750us/step\n",
      "Epoch 38/150\n",
      "4/4 - 0s - loss: 0.9759 - accuracy: 0.5300 - 3ms/epoch - 750us/step\n",
      "Epoch 39/150\n",
      "4/4 - 0s - loss: 0.9726 - accuracy: 0.5200 - 3ms/epoch - 750us/step\n",
      "Epoch 40/150\n",
      "4/4 - 0s - loss: 0.9692 - accuracy: 0.5500 - 3ms/epoch - 750us/step\n",
      "Epoch 41/150\n",
      "4/4 - 0s - loss: 0.9659 - accuracy: 0.5500 - 4ms/epoch - 1000us/step\n",
      "Epoch 42/150\n",
      "4/4 - 0s - loss: 0.9625 - accuracy: 0.5500 - 4ms/epoch - 1000us/step\n",
      "Epoch 43/150\n",
      "4/4 - 0s - loss: 0.9591 - accuracy: 0.5600 - 3ms/epoch - 750us/step\n",
      "Epoch 44/150\n",
      "4/4 - 0s - loss: 0.9558 - accuracy: 0.5700 - 3ms/epoch - 750us/step\n",
      "Epoch 45/150\n",
      "4/4 - 0s - loss: 0.9524 - accuracy: 0.5800 - 4ms/epoch - 1ms/step\n",
      "Epoch 46/150\n",
      "4/4 - 0s - loss: 0.9491 - accuracy: 0.6200 - 4ms/epoch - 1ms/step\n",
      "Epoch 47/150\n",
      "4/4 - 0s - loss: 0.9454 - accuracy: 0.6200 - 3ms/epoch - 750us/step\n",
      "Epoch 48/150\n",
      "4/4 - 0s - loss: 0.9421 - accuracy: 0.6100 - 4ms/epoch - 1ms/step\n",
      "Epoch 49/150\n",
      "4/4 - 0s - loss: 0.9384 - accuracy: 0.6100 - 4ms/epoch - 1000us/step\n",
      "Epoch 50/150\n",
      "4/4 - 0s - loss: 0.9348 - accuracy: 0.6100 - 3ms/epoch - 750us/step\n",
      "Epoch 51/150\n",
      "4/4 - 0s - loss: 0.9311 - accuracy: 0.6100 - 3ms/epoch - 750us/step\n",
      "Epoch 52/150\n",
      "4/4 - 0s - loss: 0.9273 - accuracy: 0.6200 - 4ms/epoch - 1ms/step\n",
      "Epoch 53/150\n",
      "4/4 - 0s - loss: 0.9236 - accuracy: 0.6300 - 4ms/epoch - 1000us/step\n",
      "Epoch 54/150\n",
      "4/4 - 0s - loss: 0.9197 - accuracy: 0.6300 - 3ms/epoch - 750us/step\n",
      "Epoch 55/150\n",
      "4/4 - 0s - loss: 0.9158 - accuracy: 0.6300 - 4ms/epoch - 1000us/step\n",
      "Epoch 56/150\n",
      "4/4 - 0s - loss: 0.9121 - accuracy: 0.6300 - 3ms/epoch - 750us/step\n",
      "Epoch 57/150\n",
      "4/4 - 0s - loss: 0.9082 - accuracy: 0.6300 - 3ms/epoch - 751us/step\n",
      "Epoch 58/150\n",
      "4/4 - 0s - loss: 0.9042 - accuracy: 0.6300 - 3ms/epoch - 750us/step\n",
      "Epoch 59/150\n",
      "4/4 - 0s - loss: 0.9000 - accuracy: 0.6300 - 3ms/epoch - 750us/step\n",
      "Epoch 60/150\n",
      "4/4 - 0s - loss: 0.8947 - accuracy: 0.6300 - 3ms/epoch - 750us/step\n",
      "Epoch 61/150\n",
      "4/4 - 0s - loss: 0.8881 - accuracy: 0.6400 - 3ms/epoch - 750us/step\n",
      "Epoch 62/150\n",
      "4/4 - 0s - loss: 0.8809 - accuracy: 0.6400 - 4ms/epoch - 1000us/step\n",
      "Epoch 63/150\n",
      "4/4 - 0s - loss: 0.8741 - accuracy: 0.6500 - 4ms/epoch - 1ms/step\n",
      "Epoch 64/150\n",
      "4/4 - 0s - loss: 0.8679 - accuracy: 0.6500 - 3ms/epoch - 750us/step\n",
      "Epoch 65/150\n",
      "4/4 - 0s - loss: 0.8616 - accuracy: 0.6500 - 4ms/epoch - 999us/step\n",
      "Epoch 66/150\n",
      "4/4 - 0s - loss: 0.8556 - accuracy: 0.6500 - 3ms/epoch - 750us/step\n",
      "Epoch 67/150\n",
      "4/4 - 0s - loss: 0.8499 - accuracy: 0.6500 - 4ms/epoch - 1000us/step\n",
      "Epoch 68/150\n",
      "4/4 - 0s - loss: 0.8443 - accuracy: 0.6500 - 3ms/epoch - 750us/step\n",
      "Epoch 69/150\n",
      "4/4 - 0s - loss: 0.8390 - accuracy: 0.6500 - 3ms/epoch - 750us/step\n",
      "Epoch 70/150\n",
      "4/4 - 0s - loss: 0.8336 - accuracy: 0.6500 - 3ms/epoch - 750us/step\n",
      "Epoch 71/150\n",
      "4/4 - 0s - loss: 0.8282 - accuracy: 0.6500 - 3ms/epoch - 750us/step\n",
      "Epoch 72/150\n",
      "4/4 - 0s - loss: 0.8227 - accuracy: 0.6500 - 3ms/epoch - 750us/step\n",
      "Epoch 73/150\n",
      "4/4 - 0s - loss: 0.8174 - accuracy: 0.6500 - 3ms/epoch - 750us/step\n",
      "Epoch 74/150\n",
      "4/4 - 0s - loss: 0.8121 - accuracy: 0.6500 - 3ms/epoch - 750us/step\n",
      "Epoch 75/150\n",
      "4/4 - 0s - loss: 0.8061 - accuracy: 0.6500 - 3ms/epoch - 636us/step\n",
      "Epoch 76/150\n",
      "4/4 - 0s - loss: 0.8004 - accuracy: 0.6500 - 3ms/epoch - 749us/step\n",
      "Epoch 77/150\n",
      "4/4 - 0s - loss: 0.7929 - accuracy: 0.6500 - 3ms/epoch - 750us/step\n",
      "Epoch 78/150\n",
      "4/4 - 0s - loss: 0.7834 - accuracy: 0.6500 - 3ms/epoch - 751us/step\n",
      "Epoch 79/150\n",
      "4/4 - 0s - loss: 0.7727 - accuracy: 0.6500 - 3ms/epoch - 749us/step\n",
      "Epoch 80/150\n",
      "4/4 - 0s - loss: 0.7618 - accuracy: 0.6500 - 4ms/epoch - 983us/step\n",
      "Epoch 81/150\n",
      "4/4 - 0s - loss: 0.7509 - accuracy: 0.6500 - 3ms/epoch - 750us/step\n",
      "Epoch 82/150\n",
      "4/4 - 0s - loss: 0.7408 - accuracy: 0.6500 - 3ms/epoch - 750us/step\n",
      "Epoch 83/150\n",
      "4/4 - 0s - loss: 0.7311 - accuracy: 0.6500 - 3ms/epoch - 751us/step\n",
      "Epoch 84/150\n",
      "4/4 - 0s - loss: 0.7214 - accuracy: 0.6500 - 2ms/epoch - 500us/step\n",
      "Epoch 85/150\n",
      "4/4 - 0s - loss: 0.7124 - accuracy: 0.6500 - 3ms/epoch - 750us/step\n",
      "Epoch 86/150\n",
      "4/4 - 0s - loss: 0.7033 - accuracy: 0.6500 - 3ms/epoch - 750us/step\n",
      "Epoch 87/150\n",
      "4/4 - 0s - loss: 0.6945 - accuracy: 0.6500 - 3ms/epoch - 750us/step\n",
      "Epoch 88/150\n",
      "4/4 - 0s - loss: 0.6856 - accuracy: 0.6500 - 3ms/epoch - 750us/step\n",
      "Epoch 89/150\n",
      "4/4 - 0s - loss: 0.6772 - accuracy: 0.6500 - 3ms/epoch - 749us/step\n",
      "Epoch 90/150\n",
      "4/4 - 0s - loss: 0.6689 - accuracy: 0.6500 - 4ms/epoch - 1ms/step\n",
      "Epoch 91/150\n",
      "4/4 - 0s - loss: 0.6608 - accuracy: 0.6500 - 3ms/epoch - 750us/step\n",
      "Epoch 92/150\n",
      "4/4 - 0s - loss: 0.6533 - accuracy: 0.6500 - 3ms/epoch - 750us/step\n",
      "Epoch 93/150\n",
      "4/4 - 0s - loss: 0.6465 - accuracy: 0.6500 - 2ms/epoch - 500us/step\n",
      "Epoch 94/150\n",
      "4/4 - 0s - loss: 0.6385 - accuracy: 0.6500 - 3ms/epoch - 752us/step\n",
      "Epoch 95/150\n",
      "4/4 - 0s - loss: 0.6318 - accuracy: 0.6500 - 2ms/epoch - 500us/step\n",
      "Epoch 96/150\n",
      "4/4 - 0s - loss: 0.6257 - accuracy: 0.6500 - 3ms/epoch - 750us/step\n",
      "Epoch 97/150\n",
      "4/4 - 0s - loss: 0.6193 - accuracy: 0.6500 - 3ms/epoch - 750us/step\n",
      "Epoch 98/150\n",
      "4/4 - 0s - loss: 0.6132 - accuracy: 0.6500 - 4ms/epoch - 1ms/step\n",
      "Epoch 99/150\n",
      "4/4 - 0s - loss: 0.6069 - accuracy: 0.6500 - 3ms/epoch - 750us/step\n",
      "Epoch 100/150\n",
      "4/4 - 0s - loss: 0.6005 - accuracy: 0.6500 - 3ms/epoch - 750us/step\n",
      "Epoch 101/150\n",
      "4/4 - 0s - loss: 0.5946 - accuracy: 0.6500 - 2ms/epoch - 500us/step\n",
      "Epoch 102/150\n",
      "4/4 - 0s - loss: 0.5883 - accuracy: 0.6500 - 3ms/epoch - 750us/step\n"
     ]
    },
    {
     "name": "stdout",
     "output_type": "stream",
     "text": [
      "Epoch 103/150\n",
      "4/4 - 0s - loss: 0.5824 - accuracy: 0.6500 - 3ms/epoch - 750us/step\n",
      "Epoch 104/150\n",
      "4/4 - 0s - loss: 0.5767 - accuracy: 0.6500 - 3ms/epoch - 718us/step\n",
      "Epoch 105/150\n",
      "4/4 - 0s - loss: 0.5715 - accuracy: 0.6500 - 3ms/epoch - 750us/step\n",
      "Epoch 106/150\n",
      "4/4 - 0s - loss: 0.5664 - accuracy: 0.6600 - 3ms/epoch - 750us/step\n",
      "Epoch 107/150\n",
      "4/4 - 0s - loss: 0.5614 - accuracy: 0.6700 - 3ms/epoch - 750us/step\n",
      "Epoch 108/150\n",
      "4/4 - 0s - loss: 0.5567 - accuracy: 0.6700 - 3ms/epoch - 750us/step\n",
      "Epoch 109/150\n",
      "4/4 - 0s - loss: 0.5523 - accuracy: 0.6600 - 3ms/epoch - 750us/step\n",
      "Epoch 110/150\n",
      "4/4 - 0s - loss: 0.5476 - accuracy: 0.6600 - 3ms/epoch - 750us/step\n",
      "Epoch 111/150\n",
      "4/4 - 0s - loss: 0.5433 - accuracy: 0.6700 - 4ms/epoch - 895us/step\n",
      "Epoch 112/150\n",
      "4/4 - 0s - loss: 0.5389 - accuracy: 0.6700 - 3ms/epoch - 750us/step\n",
      "Epoch 113/150\n",
      "4/4 - 0s - loss: 0.5346 - accuracy: 0.6700 - 2ms/epoch - 500us/step\n",
      "Epoch 114/150\n",
      "4/4 - 0s - loss: 0.5300 - accuracy: 0.6700 - 4ms/epoch - 975us/step\n",
      "Epoch 115/150\n",
      "4/4 - 0s - loss: 0.5260 - accuracy: 0.7000 - 4ms/epoch - 1000us/step\n",
      "Epoch 116/150\n",
      "4/4 - 0s - loss: 0.5219 - accuracy: 0.7300 - 3ms/epoch - 750us/step\n",
      "Epoch 117/150\n",
      "4/4 - 0s - loss: 0.5172 - accuracy: 0.7600 - 3ms/epoch - 750us/step\n",
      "Epoch 118/150\n",
      "4/4 - 0s - loss: 0.5122 - accuracy: 0.8000 - 4ms/epoch - 989us/step\n",
      "Epoch 119/150\n",
      "4/4 - 0s - loss: 0.5080 - accuracy: 0.8500 - 4ms/epoch - 1ms/step\n",
      "Epoch 120/150\n",
      "4/4 - 0s - loss: 0.5022 - accuracy: 0.8900 - 3ms/epoch - 750us/step\n",
      "Epoch 121/150\n",
      "4/4 - 0s - loss: 0.4977 - accuracy: 0.9000 - 3ms/epoch - 751us/step\n",
      "Epoch 122/150\n",
      "4/4 - 0s - loss: 0.4931 - accuracy: 0.8900 - 3ms/epoch - 750us/step\n",
      "Epoch 123/150\n",
      "4/4 - 0s - loss: 0.4888 - accuracy: 0.9000 - 3ms/epoch - 750us/step\n",
      "Epoch 124/150\n",
      "4/4 - 0s - loss: 0.4847 - accuracy: 0.9000 - 4ms/epoch - 1000us/step\n",
      "Epoch 125/150\n",
      "4/4 - 0s - loss: 0.4805 - accuracy: 0.8800 - 4ms/epoch - 1000us/step\n",
      "Epoch 126/150\n",
      "4/4 - 0s - loss: 0.4764 - accuracy: 0.8500 - 4ms/epoch - 1ms/step\n",
      "Epoch 127/150\n",
      "4/4 - 0s - loss: 0.4734 - accuracy: 0.8100 - 4ms/epoch - 1ms/step\n",
      "Epoch 128/150\n",
      "4/4 - 0s - loss: 0.4703 - accuracy: 0.8000 - 5ms/epoch - 1ms/step\n",
      "Epoch 129/150\n",
      "4/4 - 0s - loss: 0.4679 - accuracy: 0.7800 - 4ms/epoch - 1ms/step\n",
      "Epoch 130/150\n",
      "4/4 - 0s - loss: 0.4644 - accuracy: 0.7800 - 5ms/epoch - 1ms/step\n",
      "Epoch 131/150\n",
      "4/4 - 0s - loss: 0.4603 - accuracy: 0.8100 - 5ms/epoch - 1ms/step\n",
      "Epoch 132/150\n",
      "4/4 - 0s - loss: 0.4561 - accuracy: 0.8300 - 4ms/epoch - 1ms/step\n",
      "Epoch 133/150\n",
      "4/4 - 0s - loss: 0.4525 - accuracy: 0.9000 - 5ms/epoch - 1ms/step\n",
      "Epoch 134/150\n",
      "4/4 - 0s - loss: 0.4485 - accuracy: 0.9300 - 4ms/epoch - 1ms/step\n",
      "Epoch 135/150\n",
      "4/4 - 0s - loss: 0.4453 - accuracy: 0.9300 - 5ms/epoch - 1ms/step\n",
      "Epoch 136/150\n",
      "4/4 - 0s - loss: 0.4420 - accuracy: 0.9300 - 5ms/epoch - 1ms/step\n",
      "Epoch 137/150\n",
      "4/4 - 0s - loss: 0.4386 - accuracy: 0.9300 - 4ms/epoch - 999us/step\n",
      "Epoch 138/150\n",
      "4/4 - 0s - loss: 0.4351 - accuracy: 0.9300 - 5ms/epoch - 1ms/step\n",
      "Epoch 139/150\n",
      "4/4 - 0s - loss: 0.4318 - accuracy: 0.9300 - 5ms/epoch - 1ms/step\n",
      "Epoch 140/150\n",
      "4/4 - 0s - loss: 0.4286 - accuracy: 0.9300 - 5ms/epoch - 1ms/step\n",
      "Epoch 141/150\n",
      "4/4 - 0s - loss: 0.4255 - accuracy: 0.9300 - 4ms/epoch - 1000us/step\n",
      "Epoch 142/150\n",
      "4/4 - 0s - loss: 0.4226 - accuracy: 0.9200 - 5ms/epoch - 1ms/step\n",
      "Epoch 143/150\n",
      "4/4 - 0s - loss: 0.4197 - accuracy: 0.9300 - 4ms/epoch - 1000us/step\n",
      "Epoch 144/150\n",
      "4/4 - 0s - loss: 0.4162 - accuracy: 0.9300 - 5ms/epoch - 1ms/step\n",
      "Epoch 145/150\n",
      "4/4 - 0s - loss: 0.4122 - accuracy: 0.9300 - 4ms/epoch - 1ms/step\n",
      "Epoch 146/150\n",
      "4/4 - 0s - loss: 0.4088 - accuracy: 0.9300 - 4ms/epoch - 1ms/step\n",
      "Epoch 147/150\n",
      "4/4 - 0s - loss: 0.4054 - accuracy: 0.9400 - 4ms/epoch - 1000us/step\n",
      "Epoch 148/150\n",
      "4/4 - 0s - loss: 0.4022 - accuracy: 0.9400 - 5ms/epoch - 1ms/step\n",
      "Epoch 149/150\n",
      "4/4 - 0s - loss: 0.3990 - accuracy: 0.9400 - 4ms/epoch - 1000us/step\n",
      "Epoch 150/150\n",
      "4/4 - 0s - loss: 0.3959 - accuracy: 0.9300 - 5ms/epoch - 1ms/step\n"
     ]
    },
    {
     "data": {
      "text/plain": [
       "<keras.callbacks.History at 0x15cb54b1a60>"
      ]
     },
     "execution_count": 45,
     "metadata": {},
     "output_type": "execute_result"
    }
   ],
   "source": [
    "model.fit(scaled_X_train,y_train,epochs=150,verbose=2)"
   ]
  },
  {
   "cell_type": "code",
   "execution_count": 46,
   "metadata": {},
   "outputs": [
    {
     "data": {
      "text/plain": [
       "array([[4.0870607e-02, 5.4866773e-01, 4.1046172e-01],\n",
       "       [9.4169462e-01, 5.2558094e-02, 5.7473192e-03],\n",
       "       [7.7627157e-04, 2.4862178e-01, 7.5060195e-01],\n",
       "       [4.0649779e-02, 5.0512141e-01, 4.5422882e-01],\n",
       "       [1.5444349e-02, 5.0342155e-01, 4.8113415e-01],\n",
       "       [9.1417241e-01, 7.5050794e-02, 1.0776767e-02],\n",
       "       [1.7233303e-01, 5.4011136e-01, 2.8755566e-01],\n",
       "       [4.0312354e-03, 3.1201351e-01, 6.8395525e-01],\n",
       "       [1.1022886e-02, 4.0178764e-01, 5.8718944e-01],\n",
       "       [8.4896132e-02, 5.6169176e-01, 3.5341209e-01],\n",
       "       [1.2145241e-02, 3.9941007e-01, 5.8844471e-01],\n",
       "       [9.2874956e-01, 6.1736166e-02, 9.5143542e-03],\n",
       "       [9.4282728e-01, 5.1204477e-02, 5.9681982e-03],\n",
       "       [9.3009824e-01, 6.0938355e-02, 8.9635216e-03],\n",
       "       [9.7046518e-01, 2.6611466e-02, 2.9232865e-03],\n",
       "       [5.4210633e-02, 5.3906751e-01, 4.0672192e-01],\n",
       "       [3.5625857e-03, 2.8049445e-01, 7.1594298e-01],\n",
       "       [7.9275392e-02, 5.5162567e-01, 3.6909890e-01],\n",
       "       [5.9751347e-02, 5.2691144e-01, 4.1333723e-01],\n",
       "       [3.7009425e-03, 2.7543300e-01, 7.2086608e-01],\n",
       "       [9.4357657e-01, 4.9026508e-02, 7.3969346e-03],\n",
       "       [1.9340221e-02, 4.2384765e-01, 5.5681217e-01],\n",
       "       [9.3719828e-01, 5.4670997e-02, 8.1306864e-03],\n",
       "       [4.0680063e-03, 2.8971148e-01, 7.0622057e-01],\n",
       "       [3.6675639e-03, 4.2626578e-01, 5.7006663e-01],\n",
       "       [3.8910266e-03, 2.9262877e-01, 7.0348018e-01],\n",
       "       [3.8136365e-03, 3.3416572e-01, 6.6202062e-01],\n",
       "       [3.0009039e-03, 2.8372583e-01, 7.1327329e-01],\n",
       "       [9.1397524e-01, 7.3351949e-02, 1.2672842e-02],\n",
       "       [9.2510277e-01, 6.4627156e-02, 1.0270175e-02],\n",
       "       [9.7116977e-01, 2.5708251e-02, 3.1220180e-03],\n",
       "       [9.8160189e-01, 1.7038686e-02, 1.3593346e-03],\n",
       "       [4.0603254e-02, 5.7975048e-01, 3.7964630e-01],\n",
       "       [9.5735019e-01, 3.7610330e-02, 5.0394083e-03],\n",
       "       [9.5336258e-01, 4.0409859e-02, 6.2275664e-03],\n",
       "       [5.8684563e-03, 3.2444456e-01, 6.6968703e-01],\n",
       "       [5.4329827e-02, 5.5929041e-01, 3.8637972e-01],\n",
       "       [9.5125735e-01, 4.3435812e-02, 5.3068283e-03],\n",
       "       [9.6699947e-01, 2.9595325e-02, 3.4051770e-03],\n",
       "       [9.8014325e-01, 1.8315796e-02, 1.5409013e-03],\n",
       "       [9.1727329e-03, 3.2911035e-01, 6.6171694e-01],\n",
       "       [1.0799842e-01, 5.4237735e-01, 3.4962428e-01],\n",
       "       [2.6902093e-02, 5.3848386e-01, 4.3461406e-01],\n",
       "       [9.7091258e-01, 2.6328236e-02, 2.7592173e-03],\n",
       "       [9.5884174e-01, 3.7156157e-02, 4.0021199e-03],\n",
       "       [9.7893938e-02, 5.6010759e-01, 3.4199852e-01],\n",
       "       [1.4882131e-02, 4.5032007e-01, 5.3479779e-01],\n",
       "       [1.0070254e-02, 4.0087730e-01, 5.8905238e-01],\n",
       "       [3.6728099e-02, 5.6228900e-01, 4.0098289e-01],\n",
       "       [2.5120890e-03, 2.8739828e-01, 7.1008968e-01]], dtype=float32)"
      ]
     },
     "execution_count": 46,
     "metadata": {},
     "output_type": "execute_result"
    }
   ],
   "source": [
    "model.predict(scaled_X_test)"
   ]
  },
  {
   "cell_type": "code",
   "execution_count": 48,
   "metadata": {},
   "outputs": [
    {
     "data": {
      "text/plain": [
       "array([1, 0, 2, 1, 1, 0, 1, 2, 2, 1, 2, 0, 0, 0, 0, 1, 2, 1, 1, 2, 0, 2,\n",
       "       0, 2, 2, 2, 2, 2, 0, 0, 0, 0, 1, 0, 0, 2, 1, 0, 0, 0, 2, 1, 1, 0,\n",
       "       0, 1, 2, 2, 1, 2], dtype=int64)"
      ]
     },
     "execution_count": 48,
     "metadata": {},
     "output_type": "execute_result"
    }
   ],
   "source": [
    "np.argmax(model.predict(scaled_X_test), axis=-1)"
   ]
  },
  {
   "cell_type": "markdown",
   "metadata": {},
   "source": [
    "###### Compare to y_test"
   ]
  },
  {
   "cell_type": "code",
   "execution_count": 50,
   "metadata": {},
   "outputs": [],
   "source": [
    "predictions = np.argmax(model.predict(scaled_X_test), axis=-1)"
   ]
  },
  {
   "cell_type": "code",
   "execution_count": 51,
   "metadata": {},
   "outputs": [
    {
     "data": {
      "text/plain": [
       "array([1, 0, 2, 1, 1, 0, 1, 2, 1, 1, 2, 0, 0, 0, 0, 1, 2, 1, 1, 2, 0, 2,\n",
       "       0, 2, 2, 2, 2, 2, 0, 0, 0, 0, 1, 0, 0, 2, 1, 0, 0, 0, 2, 1, 1, 0,\n",
       "       0, 1, 2, 2, 1, 2], dtype=int64)"
      ]
     },
     "execution_count": 51,
     "metadata": {},
     "output_type": "execute_result"
    }
   ],
   "source": [
    "y_test.argmax(axis=1)"
   ]
  },
  {
   "cell_type": "code",
   "execution_count": 53,
   "metadata": {},
   "outputs": [],
   "source": [
    "from sklearn.metrics import confusion_matrix, accuracy_score,classification_report"
   ]
  },
  {
   "cell_type": "code",
   "execution_count": 54,
   "metadata": {},
   "outputs": [
    {
     "data": {
      "text/plain": [
       "array([[19,  0,  0],\n",
       "       [ 0, 14,  1],\n",
       "       [ 0,  0, 16]], dtype=int64)"
      ]
     },
     "execution_count": 54,
     "metadata": {},
     "output_type": "execute_result"
    }
   ],
   "source": [
    "confusion_matrix(y_test.argmax(axis=1),predictions)"
   ]
  },
  {
   "cell_type": "code",
   "execution_count": 59,
   "metadata": {},
   "outputs": [
    {
     "name": "stdout",
     "output_type": "stream",
     "text": [
      "              precision    recall  f1-score   support\n",
      "\n",
      "           0       1.00      1.00      1.00        19\n",
      "           1       1.00      0.93      0.97        15\n",
      "           2       0.94      1.00      0.97        16\n",
      "\n",
      "    accuracy                           0.98        50\n",
      "   macro avg       0.98      0.98      0.98        50\n",
      "weighted avg       0.98      0.98      0.98        50\n",
      "\n"
     ]
    }
   ],
   "source": [
    "print(classification_report(y_test.argmax(axis=1),predictions))"
   ]
  },
  {
   "cell_type": "code",
   "execution_count": 60,
   "metadata": {},
   "outputs": [
    {
     "data": {
      "text/plain": [
       "0.98"
      ]
     },
     "execution_count": 60,
     "metadata": {},
     "output_type": "execute_result"
    }
   ],
   "source": [
    "accuracy_score(y_test.argmax(axis=1),predictions)"
   ]
  },
  {
   "cell_type": "markdown",
   "metadata": {},
   "source": [
    "###### Save model for future use"
   ]
  },
  {
   "cell_type": "code",
   "execution_count": 65,
   "metadata": {},
   "outputs": [],
   "source": [
    "model.save('basickerasmodel.h5')"
   ]
  },
  {
   "cell_type": "markdown",
   "metadata": {},
   "source": [
    "###### Call saved model"
   ]
  },
  {
   "cell_type": "code",
   "execution_count": 62,
   "metadata": {},
   "outputs": [],
   "source": [
    "from keras.models import load_model"
   ]
  },
  {
   "cell_type": "code",
   "execution_count": 64,
   "metadata": {},
   "outputs": [],
   "source": [
    "new_model = load_model('basickerasmodel.h5')"
   ]
  },
  {
   "cell_type": "code",
   "execution_count": null,
   "metadata": {},
   "outputs": [],
   "source": []
  }
 ],
 "metadata": {
  "kernelspec": {
   "display_name": "Python 3",
   "language": "python",
   "name": "python3"
  },
  "language_info": {
   "codemirror_mode": {
    "name": "ipython",
    "version": 3
   },
   "file_extension": ".py",
   "mimetype": "text/x-python",
   "name": "python",
   "nbconvert_exporter": "python",
   "pygments_lexer": "ipython3",
   "version": "3.8.5"
  },
  "toc": {
   "base_numbering": 1,
   "nav_menu": {},
   "number_sections": true,
   "sideBar": true,
   "skip_h1_title": false,
   "title_cell": "Table of Contents",
   "title_sidebar": "Contents",
   "toc_cell": false,
   "toc_position": {},
   "toc_section_display": true,
   "toc_window_display": false
  }
 },
 "nbformat": 4,
 "nbformat_minor": 4
}
